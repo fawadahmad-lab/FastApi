{
 "cells": [
  {
   "cell_type": "markdown",
   "id": "ebd3b188",
   "metadata": {},
   "source": [
    "##  FASTAPI + ML "
   ]
  },
  {
   "cell_type": "code",
   "execution_count": 4,
   "id": "b1a82b6f",
   "metadata": {},
   "outputs": [
    {
     "ename": "ModuleNotFoundError",
     "evalue": "No module named 'sklearn'",
     "output_type": "error",
     "traceback": [
      "\u001b[31m---------------------------------------------------------------------------\u001b[39m",
      "\u001b[31mModuleNotFoundError\u001b[39m                       Traceback (most recent call last)",
      "\u001b[36mCell\u001b[39m\u001b[36m \u001b[39m\u001b[32mIn[4]\u001b[39m\u001b[32m, line 2\u001b[39m\n\u001b[32m      1\u001b[39m \u001b[38;5;28;01mimport\u001b[39;00m\u001b[38;5;250m \u001b[39m\u001b[34;01mpandas\u001b[39;00m\u001b[38;5;250m \u001b[39m\u001b[38;5;28;01mas\u001b[39;00m\u001b[38;5;250m \u001b[39m\u001b[34;01mpd\u001b[39;00m\n\u001b[32m----> \u001b[39m\u001b[32m2\u001b[39m \u001b[38;5;28;01mfrom\u001b[39;00m\u001b[38;5;250m \u001b[39m\u001b[34;01msklearn\u001b[39;00m\u001b[34;01m.\u001b[39;00m\u001b[34;01mensemble\u001b[39;00m\u001b[38;5;250m \u001b[39m\u001b[38;5;28;01mimport\u001b[39;00m RandomForestClassifier\n\u001b[32m      3\u001b[39m \u001b[38;5;28;01mfrom\u001b[39;00m\u001b[38;5;250m \u001b[39m\u001b[34;01msklearn\u001b[39;00m\u001b[34;01m.\u001b[39;00m\u001b[34;01mmodel_selection\u001b[39;00m\u001b[38;5;250m \u001b[39m\u001b[38;5;28;01mimport\u001b[39;00m train_test_split\n\u001b[32m      4\u001b[39m \u001b[38;5;28;01mfrom\u001b[39;00m\u001b[38;5;250m \u001b[39m\u001b[34;01msklearn\u001b[39;00m\u001b[34;01m.\u001b[39;00m\u001b[34;01mpreprocessing\u001b[39;00m\u001b[38;5;250m \u001b[39m\u001b[38;5;28;01mimport\u001b[39;00m OneHotEncoder\n",
      "\u001b[31mModuleNotFoundError\u001b[39m: No module named 'sklearn'"
     ]
    }
   ],
   "source": [
    "import pandas as pd\n",
    "from sklearn.ensemble import RandomForestClassifier\n",
    "from sklearn.model_selection import train_test_split\n",
    "from sklearn.preprocessing import OneHotEncoder\n",
    "from sklearn.pipeline import Pipeline\n",
    "from sklearn.compose import ColumnTransformer\n",
    "from sklearn.metrics import classification_report, accuracy_score\n",
    "import numpy as np"
   ]
  },
  {
   "cell_type": "code",
   "execution_count": null,
   "id": "c211ac7f",
   "metadata": {},
   "outputs": [],
   "source": [
    "df_feat = df.copy()"
   ]
  },
  {
   "cell_type": "code",
   "execution_count": null,
   "id": "8ceb2dfc",
   "metadata": {},
   "outputs": [],
   "source": [
    "df_feat[\"bmi\"] = df_feat[\"weight\"] /(df_feat [\"height\"] ** 2)"
   ]
  },
  {
   "cell_type": "code",
   "execution_count": null,
   "id": "4d112861",
   "metadata": {},
   "outputs": [],
   "source": [
    "def age_group(age):\n",
    "    if age < 25:\n",
    "        return \"young\"\n",
    "    elif age < 45:\n",
    "     return \"adult\"\n",
    "    elif age <60:\n",
    "     return \"middle aged\"\n",
    "    \n",
    "    return \"senior\""
   ]
  },
  {
   "cell_type": "code",
   "execution_count": null,
   "id": "1099d8c8",
   "metadata": {},
   "outputs": [],
   "source": [
    "df_feat[\"age_group\"] = df_feat[\"age\"].apply(age_group)"
   ]
  },
  {
   "cell_type": "code",
   "execution_count": null,
   "id": "0986c990",
   "metadata": {},
   "outputs": [],
   "source": [
    "def lifestyle_risk(row):\n",
    "    if row['smoker'] and row['bmi'] > 30:\n",
    "        return \"high\"\n",
    "    elif row['smoker'] or row['bmi'] > 27:\n",
    "        return \"medium\"\n",
    "    else:\n",
    "        return \"low\""
   ]
  },
  {
   "cell_type": "code",
   "execution_count": null,
   "id": "76749821",
   "metadata": {},
   "outputs": [],
   "source": [
    "df_feat[\"lifestyle_risk\"] = df_feat.apply(lifestyle_risk, axis=1)"
   ]
  },
  {
   "cell_type": "code",
   "execution_count": null,
   "id": "d0a31f17",
   "metadata": {},
   "outputs": [],
   "source": [
    "tier_1_cities = [\n",
    "    \"Karachi\", \"Lahore\", \"Islamabad\", \"Rawalpindi\", \"Faisalabad\", \"Peshawar\", \"Multan\"\n",
    "]\n",
    "tier_2_cities = [\n",
    "    \"Quetta\", \"Sialkot\", \"Gujranwala\", \"Hyderabad\", \"Bahawalpur\", \"Sargodha\", \"Sukkur\", \"Abbottabad\",\n",
    "    \"Mardan\", \"Rahim Yar Khan\", \"Larkana\", \"Sheikhupura\", \"Jhelum\", \"Kasur\", \"Mirpur\", \"Okara\",\n",
    "    \"Chiniot\", \"Dera Ghazi Khan\", \"Nawabshah\", \"Muzaffargarh\", \"Bannu\", \"Dera Ismail Khan\",\n",
    "    \"Turbat\", \"Khuzdar\", \"Gilgit\", \"Skardu\", \"Kotli\", \"Kohat\", \"Chakwal\", \"Mansehra\",\n",
    "    \"Attock\", \"Gwadar\", \"Mingora\", \"Tando Adam\", \"Jhang\", \"Bhakkar\", \"Shikarpur\", \"Hafizabad\",\n",
    "    \"Jacobabad\", \"Kamoke\", \"Khanewal\", \"Gojra\", \"Khairpur\", \"Tando Allahyar\", \"Kharian\"\n",
    "]\n"
   ]
  },
  {
   "cell_type": "code",
   "execution_count": null,
   "id": "ee2de474",
   "metadata": {},
   "outputs": [],
   "source": [
    "def city_tier(city):\n",
    "    if city in tier_1_cities:\n",
    "       return 1\n",
    "    elif city in tier_2_cities:\n",
    "       return 2\n",
    "    else:\n",
    "        return 3"
   ]
  },
  {
   "cell_type": "code",
   "execution_count": null,
   "id": "f7944fe5",
   "metadata": {},
   "outputs": [],
   "source": [
    "df_feat[\"city_tier\"] = df_feat[\"city\"].apply(city_tier)"
   ]
  }
 ],
 "metadata": {
  "kernelspec": {
   "display_name": "venv",
   "language": "python",
   "name": "python3"
  },
  "language_info": {
   "codemirror_mode": {
    "name": "ipython",
    "version": 3
   },
   "file_extension": ".py",
   "mimetype": "text/x-python",
   "name": "python",
   "nbconvert_exporter": "python",
   "pygments_lexer": "ipython3",
   "version": "3.13.1"
  }
 },
 "nbformat": 4,
 "nbformat_minor": 5
}
